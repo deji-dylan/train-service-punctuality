{
 "cells": [
  {
   "cell_type": "markdown",
   "id": "009e1a40",
   "metadata": {},
   "source": [
    "## RESEARCH QUESTION:\n",
    "Is there a significant difference in train punctuality between national and operator specific services using the Network Rail dataset between 2014 and 2023, with an emphasis on the percentage of trains arriving within 15 minutes of their due time?\n",
    "Delays in train services are usually caused by three factors: operator causes, network infrastructure causes and external causes. Preston et al(2009). The aim of this research is to investigate if the theres a difference in punctuality between National and Operator train services."
   ]
  },
  {
   "cell_type": "markdown",
   "id": "e38d043a",
   "metadata": {},
   "source": [
    "## Null Hypothesis (H0):\n",
    "There is no significant difference in train punctuality between National and Operator specific services in relation to the percentage of trains arriving within 15 minutes."
   ]
  },
  {
   "cell_type": "markdown",
   "id": "ebcb7d70",
   "metadata": {},
   "source": [
    "## Alternative Hypothesis (H1):\n",
    "There is significant difference in train punctuality between National and Operator specific services in relation to the percentage of trains arriving within 15 minutes."
   ]
  },
  {
   "cell_type": "code",
   "execution_count": 1,
   "id": "72c5045e",
   "metadata": {},
   "outputs": [],
   "source": [
    "import pandas as pd\n",
    "import seaborn as sns\n",
    "import matplotlib.pyplot as plt\n",
    "from scipy.stats import chi2_contingency\n",
    "import statsmodels.api as sm"
   ]
  },
  {
   "cell_type": "markdown",
   "id": "6bbf9d0c",
   "metadata": {},
   "source": [
    "Load the National Rail dataset"
   ]
  },
  {
   "cell_type": "code",
   "execution_count": 2,
   "id": "85588a5d",
   "metadata": {},
   "outputs": [
    {
     "data": {
      "text/html": [
       "<div>\n",
       "<style scoped>\n",
       "    .dataframe tbody tr th:only-of-type {\n",
       "        vertical-align: middle;\n",
       "    }\n",
       "\n",
       "    .dataframe tbody tr th {\n",
       "        vertical-align: top;\n",
       "    }\n",
       "\n",
       "    .dataframe thead th {\n",
       "        text-align: right;\n",
       "    }\n",
       "</style>\n",
       "<table border=\"1\" class=\"dataframe\">\n",
       "  <thead>\n",
       "    <tr style=\"text-align: right;\">\n",
       "      <th></th>\n",
       "      <th>Time period</th>\n",
       "      <th>National or Operator</th>\n",
       "      <th>Number of recorded\\nstation stops</th>\n",
       "      <th>Trains arriving within 59 seconds (percentage)</th>\n",
       "      <th>Trains arriving within 3 minutes (percentage)</th>\n",
       "      <th>Trains arriving within 15 minutes (percentage)</th>\n",
       "    </tr>\n",
       "  </thead>\n",
       "  <tbody>\n",
       "    <tr>\n",
       "      <th>0</th>\n",
       "      <td>Apr to Jun 2014</td>\n",
       "      <td>Great Britain\\n</td>\n",
       "      <td>1.652930e+07</td>\n",
       "      <td>67.822865</td>\n",
       "      <td>87.641925</td>\n",
       "      <td>99.025109</td>\n",
       "    </tr>\n",
       "    <tr>\n",
       "      <th>1</th>\n",
       "      <td>Apr to Jun 2014</td>\n",
       "      <td>England and Wales</td>\n",
       "      <td>1.502806e+07</td>\n",
       "      <td>67.681885</td>\n",
       "      <td>87.268017</td>\n",
       "      <td>98.957696</td>\n",
       "    </tr>\n",
       "    <tr>\n",
       "      <th>2</th>\n",
       "      <td>Apr to Jun 2014</td>\n",
       "      <td>Scotland</td>\n",
       "      <td>1.501240e+06</td>\n",
       "      <td>69.234144</td>\n",
       "      <td>91.384905</td>\n",
       "      <td>99.699939</td>\n",
       "    </tr>\n",
       "    <tr>\n",
       "      <th>3</th>\n",
       "      <td>Apr to Jun 2014</td>\n",
       "      <td>Avanti West Coast</td>\n",
       "      <td>1.702811e+05</td>\n",
       "      <td>47.588505</td>\n",
       "      <td>69.260668</td>\n",
       "      <td>94.478963</td>\n",
       "    </tr>\n",
       "    <tr>\n",
       "      <th>4</th>\n",
       "      <td>Apr to Jun 2014</td>\n",
       "      <td>c2c</td>\n",
       "      <td>3.639036e+05</td>\n",
       "      <td>86.719353</td>\n",
       "      <td>96.663873</td>\n",
       "      <td>99.618247</td>\n",
       "    </tr>\n",
       "    <tr>\n",
       "      <th>...</th>\n",
       "      <td>...</td>\n",
       "      <td>...</td>\n",
       "      <td>...</td>\n",
       "      <td>...</td>\n",
       "      <td>...</td>\n",
       "      <td>...</td>\n",
       "    </tr>\n",
       "    <tr>\n",
       "      <th>961</th>\n",
       "      <td>Oct to Dec 2022 [r]</td>\n",
       "      <td>South Western Railway</td>\n",
       "      <td>1.427171e+06</td>\n",
       "      <td>60.085873</td>\n",
       "      <td>80.745576</td>\n",
       "      <td>98.052792</td>\n",
       "    </tr>\n",
       "    <tr>\n",
       "      <th>962</th>\n",
       "      <td>Oct to Dec 2022 [r]</td>\n",
       "      <td>Southeastern</td>\n",
       "      <td>1.474836e+06</td>\n",
       "      <td>57.463934</td>\n",
       "      <td>78.898435</td>\n",
       "      <td>97.713837</td>\n",
       "    </tr>\n",
       "    <tr>\n",
       "      <th>963</th>\n",
       "      <td>Oct to Dec 2022 [r]</td>\n",
       "      <td>TfW Rail</td>\n",
       "      <td>6.866729e+05</td>\n",
       "      <td>56.651197</td>\n",
       "      <td>74.273926</td>\n",
       "      <td>96.041960</td>\n",
       "    </tr>\n",
       "    <tr>\n",
       "      <th>964</th>\n",
       "      <td>Oct to Dec 2022 [r]</td>\n",
       "      <td>TransPennine Express</td>\n",
       "      <td>1.498487e+05</td>\n",
       "      <td>46.468640</td>\n",
       "      <td>66.917769</td>\n",
       "      <td>94.123047</td>\n",
       "    </tr>\n",
       "    <tr>\n",
       "      <th>965</th>\n",
       "      <td>Oct to Dec 2022 [r]</td>\n",
       "      <td>West Midlands Trains</td>\n",
       "      <td>8.973588e+05</td>\n",
       "      <td>51.740954</td>\n",
       "      <td>73.369141</td>\n",
       "      <td>97.409509</td>\n",
       "    </tr>\n",
       "  </tbody>\n",
       "</table>\n",
       "<p>966 rows × 6 columns</p>\n",
       "</div>"
      ],
      "text/plain": [
       "             Time period   National or Operator  \\\n",
       "0        Apr to Jun 2014        Great Britain\\n   \n",
       "1        Apr to Jun 2014      England and Wales   \n",
       "2        Apr to Jun 2014               Scotland   \n",
       "3        Apr to Jun 2014      Avanti West Coast   \n",
       "4        Apr to Jun 2014                    c2c   \n",
       "..                   ...                    ...   \n",
       "961  Oct to Dec 2022 [r]  South Western Railway   \n",
       "962  Oct to Dec 2022 [r]           Southeastern   \n",
       "963  Oct to Dec 2022 [r]               TfW Rail   \n",
       "964  Oct to Dec 2022 [r]   TransPennine Express   \n",
       "965  Oct to Dec 2022 [r]   West Midlands Trains   \n",
       "\n",
       "     Number of recorded\\nstation stops  \\\n",
       "0                         1.652930e+07   \n",
       "1                         1.502806e+07   \n",
       "2                         1.501240e+06   \n",
       "3                         1.702811e+05   \n",
       "4                         3.639036e+05   \n",
       "..                                 ...   \n",
       "961                       1.427171e+06   \n",
       "962                       1.474836e+06   \n",
       "963                       6.866729e+05   \n",
       "964                       1.498487e+05   \n",
       "965                       8.973588e+05   \n",
       "\n",
       "     Trains arriving within 59 seconds (percentage)  \\\n",
       "0                                         67.822865   \n",
       "1                                         67.681885   \n",
       "2                                         69.234144   \n",
       "3                                         47.588505   \n",
       "4                                         86.719353   \n",
       "..                                              ...   \n",
       "961                                       60.085873   \n",
       "962                                       57.463934   \n",
       "963                                       56.651197   \n",
       "964                                       46.468640   \n",
       "965                                       51.740954   \n",
       "\n",
       "     Trains arriving within 3 minutes (percentage)  \\\n",
       "0                                        87.641925   \n",
       "1                                        87.268017   \n",
       "2                                        91.384905   \n",
       "3                                        69.260668   \n",
       "4                                        96.663873   \n",
       "..                                             ...   \n",
       "961                                      80.745576   \n",
       "962                                      78.898435   \n",
       "963                                      74.273926   \n",
       "964                                      66.917769   \n",
       "965                                      73.369141   \n",
       "\n",
       "     Trains arriving within 15 minutes (percentage)  \n",
       "0                                         99.025109  \n",
       "1                                         98.957696  \n",
       "2                                         99.699939  \n",
       "3                                         94.478963  \n",
       "4                                         99.618247  \n",
       "..                                              ...  \n",
       "961                                       98.052792  \n",
       "962                                       97.713837  \n",
       "963                                       96.041960  \n",
       "964                                       94.123047  \n",
       "965                                       97.409509  \n",
       "\n",
       "[966 rows x 6 columns]"
      ]
     },
     "execution_count": 2,
     "metadata": {},
     "output_type": "execute_result"
    }
   ],
   "source": [
    "df_train = pd.read_excel('train_punctuality.xlsx')\n",
    "df_train"
   ]
  },
  {
   "cell_type": "code",
   "execution_count": 3,
   "id": "1c615b77",
   "metadata": {},
   "outputs": [
    {
     "name": "stdout",
     "output_type": "stream",
     "text": [
      "<class 'pandas.core.frame.DataFrame'>\n",
      "RangeIndex: 966 entries, 0 to 965\n",
      "Data columns (total 6 columns):\n",
      " #   Column                                          Non-Null Count  Dtype  \n",
      "---  ------                                          --------------  -----  \n",
      " 0   Time period                                     966 non-null    object \n",
      " 1   National or Operator                            966 non-null    object \n",
      " 2   Number of recorded\n",
      "station stops                966 non-null    float64\n",
      " 3   Trains arriving within 59 seconds (percentage)  966 non-null    float64\n",
      " 4   Trains arriving within 3 minutes (percentage)   966 non-null    float64\n",
      " 5   Trains arriving within 15 minutes (percentage)  966 non-null    float64\n",
      "dtypes: float64(4), object(2)\n",
      "memory usage: 45.4+ KB\n"
     ]
    }
   ],
   "source": [
    "df_train.info()"
   ]
  },
  {
   "cell_type": "markdown",
   "id": "4d5c2f17",
   "metadata": {},
   "source": [
    "## DATA CLEANING AND MANIPULATION"
   ]
  },
  {
   "cell_type": "markdown",
   "id": "6a27b88d",
   "metadata": {},
   "source": [
    "Display a list of all columns"
   ]
  },
  {
   "cell_type": "code",
   "execution_count": 4,
   "id": "eedaa158",
   "metadata": {},
   "outputs": [
    {
     "data": {
      "text/plain": [
       "['Time period',\n",
       " 'National or Operator',\n",
       " 'Number of recorded\\nstation stops',\n",
       " 'Trains arriving within 59 seconds (percentage)',\n",
       " 'Trains arriving within 3 minutes (percentage)',\n",
       " 'Trains arriving within 15 minutes (percentage)']"
      ]
     },
     "execution_count": 4,
     "metadata": {},
     "output_type": "execute_result"
    }
   ],
   "source": [
    "list(df_train.columns)"
   ]
  },
  {
   "cell_type": "markdown",
   "id": "9efe0bf9",
   "metadata": {},
   "source": [
    "Check for duplicates and null values"
   ]
  },
  {
   "cell_type": "code",
   "execution_count": 5,
   "id": "5bba4de6",
   "metadata": {},
   "outputs": [
    {
     "data": {
      "text/plain": [
       "0      False\n",
       "1      False\n",
       "2      False\n",
       "3      False\n",
       "4      False\n",
       "       ...  \n",
       "961    False\n",
       "962    False\n",
       "963    False\n",
       "964    False\n",
       "965    False\n",
       "Length: 966, dtype: bool"
      ]
     },
     "execution_count": 5,
     "metadata": {},
     "output_type": "execute_result"
    }
   ],
   "source": [
    "df_train.duplicated()"
   ]
  },
  {
   "cell_type": "code",
   "execution_count": 6,
   "id": "9407d9d5",
   "metadata": {},
   "outputs": [
    {
     "data": {
      "text/html": [
       "<div>\n",
       "<style scoped>\n",
       "    .dataframe tbody tr th:only-of-type {\n",
       "        vertical-align: middle;\n",
       "    }\n",
       "\n",
       "    .dataframe tbody tr th {\n",
       "        vertical-align: top;\n",
       "    }\n",
       "\n",
       "    .dataframe thead th {\n",
       "        text-align: right;\n",
       "    }\n",
       "</style>\n",
       "<table border=\"1\" class=\"dataframe\">\n",
       "  <thead>\n",
       "    <tr style=\"text-align: right;\">\n",
       "      <th></th>\n",
       "      <th>Time period</th>\n",
       "      <th>National or Operator</th>\n",
       "      <th>Number of recorded\\nstation stops</th>\n",
       "      <th>Trains arriving within 59 seconds (percentage)</th>\n",
       "      <th>Trains arriving within 3 minutes (percentage)</th>\n",
       "      <th>Trains arriving within 15 minutes (percentage)</th>\n",
       "    </tr>\n",
       "  </thead>\n",
       "  <tbody>\n",
       "  </tbody>\n",
       "</table>\n",
       "</div>"
      ],
      "text/plain": [
       "Empty DataFrame\n",
       "Columns: [Time period, National or Operator, Number of recorded\n",
       "station stops, Trains arriving within 59 seconds (percentage), Trains arriving within 3 minutes (percentage), Trains arriving within 15 minutes (percentage)]\n",
       "Index: []"
      ]
     },
     "execution_count": 6,
     "metadata": {},
     "output_type": "execute_result"
    }
   ],
   "source": [
    "\n",
    "df_train[df_train.duplicated() == True]\n"
   ]
  },
  {
   "cell_type": "code",
   "execution_count": 7,
   "id": "1f356c7a",
   "metadata": {},
   "outputs": [
    {
     "data": {
      "text/plain": [
       "Time period                                       False\n",
       "National or Operator                              False\n",
       "Number of recorded\\nstation stops                 False\n",
       "Trains arriving within 59 seconds (percentage)    False\n",
       "Trains arriving within 3 minutes (percentage)     False\n",
       "Trains arriving within 15 minutes (percentage)    False\n",
       "dtype: bool"
      ]
     },
     "execution_count": 7,
     "metadata": {},
     "output_type": "execute_result"
    }
   ],
   "source": [
    "df_train.isnull().any()"
   ]
  },
  {
   "cell_type": "markdown",
   "id": "02d4909a",
   "metadata": {},
   "source": [
    "Create two datasets for the two groups. "
   ]
  },
  {
   "cell_type": "code",
   "execution_count": 8,
   "id": "a96b96c1",
   "metadata": {},
   "outputs": [
    {
     "data": {
      "text/html": [
       "<div>\n",
       "<style scoped>\n",
       "    .dataframe tbody tr th:only-of-type {\n",
       "        vertical-align: middle;\n",
       "    }\n",
       "\n",
       "    .dataframe tbody tr th {\n",
       "        vertical-align: top;\n",
       "    }\n",
       "\n",
       "    .dataframe thead th {\n",
       "        text-align: right;\n",
       "    }\n",
       "</style>\n",
       "<table border=\"1\" class=\"dataframe\">\n",
       "  <thead>\n",
       "    <tr style=\"text-align: right;\">\n",
       "      <th></th>\n",
       "      <th>Time period</th>\n",
       "      <th>National or Operator</th>\n",
       "      <th>Number of recorded\\nstation stops</th>\n",
       "      <th>Trains arriving within 59 seconds (percentage)</th>\n",
       "      <th>Trains arriving within 3 minutes (percentage)</th>\n",
       "      <th>Trains arriving within 15 minutes (percentage)</th>\n",
       "    </tr>\n",
       "  </thead>\n",
       "  <tbody>\n",
       "    <tr>\n",
       "      <th>1</th>\n",
       "      <td>Apr to Jun 2014</td>\n",
       "      <td>England and Wales</td>\n",
       "      <td>1.502806e+07</td>\n",
       "      <td>67.681885</td>\n",
       "      <td>87.268017</td>\n",
       "      <td>98.957696</td>\n",
       "    </tr>\n",
       "    <tr>\n",
       "      <th>2</th>\n",
       "      <td>Apr to Jun 2014</td>\n",
       "      <td>Scotland</td>\n",
       "      <td>1.501240e+06</td>\n",
       "      <td>69.234144</td>\n",
       "      <td>91.384905</td>\n",
       "      <td>99.699939</td>\n",
       "    </tr>\n",
       "    <tr>\n",
       "      <th>26</th>\n",
       "      <td>Apr to Jun 2015</td>\n",
       "      <td>England and Wales</td>\n",
       "      <td>1.514314e+07</td>\n",
       "      <td>67.473239</td>\n",
       "      <td>86.915139</td>\n",
       "      <td>98.891686</td>\n",
       "    </tr>\n",
       "    <tr>\n",
       "      <th>27</th>\n",
       "      <td>Apr to Jun 2015</td>\n",
       "      <td>Scotland</td>\n",
       "      <td>1.517212e+06</td>\n",
       "      <td>67.869772</td>\n",
       "      <td>90.818879</td>\n",
       "      <td>99.692147</td>\n",
       "    </tr>\n",
       "    <tr>\n",
       "      <th>52</th>\n",
       "      <td>Apr to Jun 2016</td>\n",
       "      <td>England and Wales</td>\n",
       "      <td>1.569522e+07</td>\n",
       "      <td>65.259674</td>\n",
       "      <td>85.442909</td>\n",
       "      <td>98.615837</td>\n",
       "    </tr>\n",
       "    <tr>\n",
       "      <th>...</th>\n",
       "      <td>...</td>\n",
       "      <td>...</td>\n",
       "      <td>...</td>\n",
       "      <td>...</td>\n",
       "      <td>...</td>\n",
       "      <td>...</td>\n",
       "    </tr>\n",
       "    <tr>\n",
       "      <th>888</th>\n",
       "      <td>Oct to Dec 2020 [r]</td>\n",
       "      <td>Scotland</td>\n",
       "      <td>2.044414e+06</td>\n",
       "      <td>72.319095</td>\n",
       "      <td>90.770435</td>\n",
       "      <td>99.504835</td>\n",
       "    </tr>\n",
       "    <tr>\n",
       "      <th>913</th>\n",
       "      <td>Oct to Dec 2021 [r]</td>\n",
       "      <td>England and Wales</td>\n",
       "      <td>1.681953e+07</td>\n",
       "      <td>68.183630</td>\n",
       "      <td>85.924851</td>\n",
       "      <td>98.513646</td>\n",
       "    </tr>\n",
       "    <tr>\n",
       "      <th>914</th>\n",
       "      <td>Oct to Dec 2021 [r]</td>\n",
       "      <td>Scotland</td>\n",
       "      <td>1.863267e+06</td>\n",
       "      <td>63.064462</td>\n",
       "      <td>85.337324</td>\n",
       "      <td>99.222717</td>\n",
       "    </tr>\n",
       "    <tr>\n",
       "      <th>940</th>\n",
       "      <td>Oct to Dec 2022 [r]</td>\n",
       "      <td>England and Wales</td>\n",
       "      <td>1.524500e+07</td>\n",
       "      <td>62.262421</td>\n",
       "      <td>81.283521</td>\n",
       "      <td>97.760384</td>\n",
       "    </tr>\n",
       "    <tr>\n",
       "      <th>941</th>\n",
       "      <td>Oct to Dec 2022 [r]</td>\n",
       "      <td>Scotland</td>\n",
       "      <td>1.709131e+06</td>\n",
       "      <td>62.397790</td>\n",
       "      <td>84.433102</td>\n",
       "      <td>99.036607</td>\n",
       "    </tr>\n",
       "  </tbody>\n",
       "</table>\n",
       "<p>74 rows × 6 columns</p>\n",
       "</div>"
      ],
      "text/plain": [
       "             Time period National or Operator  \\\n",
       "1        Apr to Jun 2014    England and Wales   \n",
       "2        Apr to Jun 2014             Scotland   \n",
       "26       Apr to Jun 2015    England and Wales   \n",
       "27       Apr to Jun 2015             Scotland   \n",
       "52       Apr to Jun 2016    England and Wales   \n",
       "..                   ...                  ...   \n",
       "888  Oct to Dec 2020 [r]             Scotland   \n",
       "913  Oct to Dec 2021 [r]    England and Wales   \n",
       "914  Oct to Dec 2021 [r]             Scotland   \n",
       "940  Oct to Dec 2022 [r]    England and Wales   \n",
       "941  Oct to Dec 2022 [r]             Scotland   \n",
       "\n",
       "     Number of recorded\\nstation stops  \\\n",
       "1                         1.502806e+07   \n",
       "2                         1.501240e+06   \n",
       "26                        1.514314e+07   \n",
       "27                        1.517212e+06   \n",
       "52                        1.569522e+07   \n",
       "..                                 ...   \n",
       "888                       2.044414e+06   \n",
       "913                       1.681953e+07   \n",
       "914                       1.863267e+06   \n",
       "940                       1.524500e+07   \n",
       "941                       1.709131e+06   \n",
       "\n",
       "     Trains arriving within 59 seconds (percentage)  \\\n",
       "1                                         67.681885   \n",
       "2                                         69.234144   \n",
       "26                                        67.473239   \n",
       "27                                        67.869772   \n",
       "52                                        65.259674   \n",
       "..                                              ...   \n",
       "888                                       72.319095   \n",
       "913                                       68.183630   \n",
       "914                                       63.064462   \n",
       "940                                       62.262421   \n",
       "941                                       62.397790   \n",
       "\n",
       "     Trains arriving within 3 minutes (percentage)  \\\n",
       "1                                        87.268017   \n",
       "2                                        91.384905   \n",
       "26                                       86.915139   \n",
       "27                                       90.818879   \n",
       "52                                       85.442909   \n",
       "..                                             ...   \n",
       "888                                      90.770435   \n",
       "913                                      85.924851   \n",
       "914                                      85.337324   \n",
       "940                                      81.283521   \n",
       "941                                      84.433102   \n",
       "\n",
       "     Trains arriving within 15 minutes (percentage)  \n",
       "1                                         98.957696  \n",
       "2                                         99.699939  \n",
       "26                                        98.891686  \n",
       "27                                        99.692147  \n",
       "52                                        98.615837  \n",
       "..                                              ...  \n",
       "888                                       99.504835  \n",
       "913                                       98.513646  \n",
       "914                                       99.222717  \n",
       "940                                       97.760384  \n",
       "941                                       99.036607  \n",
       "\n",
       "[74 rows x 6 columns]"
      ]
     },
     "execution_count": 8,
     "metadata": {},
     "output_type": "execute_result"
    }
   ],
   "source": [
    "national_services = df_train[df_train['National or Operator'].isin(['Great Britain', 'England and Wales', 'Scotland'])]\n",
    "national_services"
   ]
  },
  {
   "cell_type": "code",
   "execution_count": 9,
   "id": "bb35c289",
   "metadata": {},
   "outputs": [
    {
     "name": "stdout",
     "output_type": "stream",
     "text": [
      "<class 'pandas.core.frame.DataFrame'>\n",
      "Index: 74 entries, 1 to 941\n",
      "Data columns (total 6 columns):\n",
      " #   Column                                          Non-Null Count  Dtype  \n",
      "---  ------                                          --------------  -----  \n",
      " 0   Time period                                     74 non-null     object \n",
      " 1   National or Operator                            74 non-null     object \n",
      " 2   Number of recorded\n",
      "station stops                74 non-null     float64\n",
      " 3   Trains arriving within 59 seconds (percentage)  74 non-null     float64\n",
      " 4   Trains arriving within 3 minutes (percentage)   74 non-null     float64\n",
      " 5   Trains arriving within 15 minutes (percentage)  74 non-null     float64\n",
      "dtypes: float64(4), object(2)\n",
      "memory usage: 4.0+ KB\n"
     ]
    }
   ],
   "source": [
    "national_services.info()"
   ]
  },
  {
   "cell_type": "code",
   "execution_count": 10,
   "id": "51c9f689",
   "metadata": {},
   "outputs": [
    {
     "data": {
      "text/html": [
       "<div>\n",
       "<style scoped>\n",
       "    .dataframe tbody tr th:only-of-type {\n",
       "        vertical-align: middle;\n",
       "    }\n",
       "\n",
       "    .dataframe tbody tr th {\n",
       "        vertical-align: top;\n",
       "    }\n",
       "\n",
       "    .dataframe thead th {\n",
       "        text-align: right;\n",
       "    }\n",
       "</style>\n",
       "<table border=\"1\" class=\"dataframe\">\n",
       "  <thead>\n",
       "    <tr style=\"text-align: right;\">\n",
       "      <th></th>\n",
       "      <th>Time period</th>\n",
       "      <th>National or Operator</th>\n",
       "      <th>Number of recorded\\nstation stops</th>\n",
       "      <th>Trains arriving within 59 seconds (percentage)</th>\n",
       "      <th>Trains arriving within 3 minutes (percentage)</th>\n",
       "      <th>Trains arriving within 15 minutes (percentage)</th>\n",
       "    </tr>\n",
       "  </thead>\n",
       "  <tbody>\n",
       "    <tr>\n",
       "      <th>0</th>\n",
       "      <td>Apr to Jun 2014</td>\n",
       "      <td>Great Britain\\n</td>\n",
       "      <td>1.652930e+07</td>\n",
       "      <td>67.822865</td>\n",
       "      <td>87.641925</td>\n",
       "      <td>99.025109</td>\n",
       "    </tr>\n",
       "    <tr>\n",
       "      <th>3</th>\n",
       "      <td>Apr to Jun 2014</td>\n",
       "      <td>Avanti West Coast</td>\n",
       "      <td>1.702811e+05</td>\n",
       "      <td>47.588505</td>\n",
       "      <td>69.260668</td>\n",
       "      <td>94.478963</td>\n",
       "    </tr>\n",
       "    <tr>\n",
       "      <th>4</th>\n",
       "      <td>Apr to Jun 2014</td>\n",
       "      <td>c2c</td>\n",
       "      <td>3.639036e+05</td>\n",
       "      <td>86.719353</td>\n",
       "      <td>96.663873</td>\n",
       "      <td>99.618247</td>\n",
       "    </tr>\n",
       "    <tr>\n",
       "      <th>5</th>\n",
       "      <td>Apr to Jun 2014</td>\n",
       "      <td>Chiltern Railways</td>\n",
       "      <td>2.404340e+05</td>\n",
       "      <td>78.700644</td>\n",
       "      <td>92.196210</td>\n",
       "      <td>99.360828</td>\n",
       "    </tr>\n",
       "    <tr>\n",
       "      <th>6</th>\n",
       "      <td>Apr to Jun 2014</td>\n",
       "      <td>CrossCountry</td>\n",
       "      <td>3.056085e+05</td>\n",
       "      <td>50.893060</td>\n",
       "      <td>75.998316</td>\n",
       "      <td>97.199066</td>\n",
       "    </tr>\n",
       "    <tr>\n",
       "      <th>...</th>\n",
       "      <td>...</td>\n",
       "      <td>...</td>\n",
       "      <td>...</td>\n",
       "      <td>...</td>\n",
       "      <td>...</td>\n",
       "      <td>...</td>\n",
       "    </tr>\n",
       "    <tr>\n",
       "      <th>961</th>\n",
       "      <td>Oct to Dec 2022 [r]</td>\n",
       "      <td>South Western Railway</td>\n",
       "      <td>1.427171e+06</td>\n",
       "      <td>60.085873</td>\n",
       "      <td>80.745576</td>\n",
       "      <td>98.052792</td>\n",
       "    </tr>\n",
       "    <tr>\n",
       "      <th>962</th>\n",
       "      <td>Oct to Dec 2022 [r]</td>\n",
       "      <td>Southeastern</td>\n",
       "      <td>1.474836e+06</td>\n",
       "      <td>57.463934</td>\n",
       "      <td>78.898435</td>\n",
       "      <td>97.713837</td>\n",
       "    </tr>\n",
       "    <tr>\n",
       "      <th>963</th>\n",
       "      <td>Oct to Dec 2022 [r]</td>\n",
       "      <td>TfW Rail</td>\n",
       "      <td>6.866729e+05</td>\n",
       "      <td>56.651197</td>\n",
       "      <td>74.273926</td>\n",
       "      <td>96.041960</td>\n",
       "    </tr>\n",
       "    <tr>\n",
       "      <th>964</th>\n",
       "      <td>Oct to Dec 2022 [r]</td>\n",
       "      <td>TransPennine Express</td>\n",
       "      <td>1.498487e+05</td>\n",
       "      <td>46.468640</td>\n",
       "      <td>66.917769</td>\n",
       "      <td>94.123047</td>\n",
       "    </tr>\n",
       "    <tr>\n",
       "      <th>965</th>\n",
       "      <td>Oct to Dec 2022 [r]</td>\n",
       "      <td>West Midlands Trains</td>\n",
       "      <td>8.973588e+05</td>\n",
       "      <td>51.740954</td>\n",
       "      <td>73.369141</td>\n",
       "      <td>97.409509</td>\n",
       "    </tr>\n",
       "  </tbody>\n",
       "</table>\n",
       "<p>892 rows × 6 columns</p>\n",
       "</div>"
      ],
      "text/plain": [
       "             Time period   National or Operator  \\\n",
       "0        Apr to Jun 2014        Great Britain\\n   \n",
       "3        Apr to Jun 2014      Avanti West Coast   \n",
       "4        Apr to Jun 2014                    c2c   \n",
       "5        Apr to Jun 2014      Chiltern Railways   \n",
       "6        Apr to Jun 2014           CrossCountry   \n",
       "..                   ...                    ...   \n",
       "961  Oct to Dec 2022 [r]  South Western Railway   \n",
       "962  Oct to Dec 2022 [r]           Southeastern   \n",
       "963  Oct to Dec 2022 [r]               TfW Rail   \n",
       "964  Oct to Dec 2022 [r]   TransPennine Express   \n",
       "965  Oct to Dec 2022 [r]   West Midlands Trains   \n",
       "\n",
       "     Number of recorded\\nstation stops  \\\n",
       "0                         1.652930e+07   \n",
       "3                         1.702811e+05   \n",
       "4                         3.639036e+05   \n",
       "5                         2.404340e+05   \n",
       "6                         3.056085e+05   \n",
       "..                                 ...   \n",
       "961                       1.427171e+06   \n",
       "962                       1.474836e+06   \n",
       "963                       6.866729e+05   \n",
       "964                       1.498487e+05   \n",
       "965                       8.973588e+05   \n",
       "\n",
       "     Trains arriving within 59 seconds (percentage)  \\\n",
       "0                                         67.822865   \n",
       "3                                         47.588505   \n",
       "4                                         86.719353   \n",
       "5                                         78.700644   \n",
       "6                                         50.893060   \n",
       "..                                              ...   \n",
       "961                                       60.085873   \n",
       "962                                       57.463934   \n",
       "963                                       56.651197   \n",
       "964                                       46.468640   \n",
       "965                                       51.740954   \n",
       "\n",
       "     Trains arriving within 3 minutes (percentage)  \\\n",
       "0                                        87.641925   \n",
       "3                                        69.260668   \n",
       "4                                        96.663873   \n",
       "5                                        92.196210   \n",
       "6                                        75.998316   \n",
       "..                                             ...   \n",
       "961                                      80.745576   \n",
       "962                                      78.898435   \n",
       "963                                      74.273926   \n",
       "964                                      66.917769   \n",
       "965                                      73.369141   \n",
       "\n",
       "     Trains arriving within 15 minutes (percentage)  \n",
       "0                                         99.025109  \n",
       "3                                         94.478963  \n",
       "4                                         99.618247  \n",
       "5                                         99.360828  \n",
       "6                                         97.199066  \n",
       "..                                              ...  \n",
       "961                                       98.052792  \n",
       "962                                       97.713837  \n",
       "963                                       96.041960  \n",
       "964                                       94.123047  \n",
       "965                                       97.409509  \n",
       "\n",
       "[892 rows x 6 columns]"
      ]
     },
     "execution_count": 10,
     "metadata": {},
     "output_type": "execute_result"
    }
   ],
   "source": [
    "operator_services = df_train[~df_train['National or Operator'].isin(['Great Britain', 'England and Wales', 'Scotland'])]\n",
    "operator_services"
   ]
  },
  {
   "cell_type": "markdown",
   "id": "db90e0d2",
   "metadata": {},
   "source": [
    "## VISUALIZATION"
   ]
  },
  {
   "cell_type": "markdown",
   "id": "423c03b9",
   "metadata": {},
   "source": [
    "Seaborn and Matplotlib libraries are used to visualize the distribution of the variables."
   ]
  },
  {
   "cell_type": "code",
   "execution_count": 11,
   "id": "aac0c6d6",
   "metadata": {},
   "outputs": [
    {
     "name": "stderr",
     "output_type": "stream",
     "text": [
      "/Users/oladejiolajubu/anaconda3/lib/python3.11/site-packages/seaborn/_oldcore.py:1119: FutureWarning: use_inf_as_na option is deprecated and will be removed in a future version. Convert inf values to NaN before operating instead.\n",
      "  with pd.option_context('mode.use_inf_as_na', True):\n",
      "/Users/oladejiolajubu/anaconda3/lib/python3.11/site-packages/seaborn/_oldcore.py:1119: FutureWarning: use_inf_as_na option is deprecated and will be removed in a future version. Convert inf values to NaN before operating instead.\n",
      "  with pd.option_context('mode.use_inf_as_na', True):\n"
     ]
    },
    {
     "data": {
      "image/png": "[encoded data removed]",
      "text/plain": [
       "<Figure size 640x480 with 1 Axes>"
      ]
     },
     "metadata": {},
     "output_type": "display_data"
    }
   ],
   "source": [
    "sns.histplot(national_services['Trains arriving within 15 minutes (percentage)'], kde=True, label='National Services')\n",
    "sns.histplot(operator_services['Trains arriving within 15 minutes (percentage)'], kde=True, label='Operator Services')\n",
    "plt.title('Distribution of Percentage of Trains Arriving Within 15 Minutes')\n",
    "plt.xlabel('Percentage of Trains Arriving Within 15 Minutes')\n",
    "plt.legend()\n",
    "plt.show()"
   ]
  },
  {
   "cell_type": "markdown",
   "id": "502b11f2",
   "metadata": {},
   "source": [
    "The graph shows that the distribution of the trains arriving within 15 minutes for the two groups are negatively skewed, therefore a Welch t-test is suitable since it does not assume normality."
   ]
  },
  {
   "cell_type": "markdown",
   "id": "0b4f78e1",
   "metadata": {},
   "source": [
    "## Hypothesis Testing (Welch's t-test)"
   ]
  },
  {
   "cell_type": "markdown",
   "id": "9252a6a1",
   "metadata": {},
   "source": [
    " The Welch's t-test is performed and the p-value will be compared to a significance level of 0.05."
   ]
  },
  {
   "cell_type": "code",
   "execution_count": 12,
   "id": "140e50ac",
   "metadata": {},
   "outputs": [
    {
     "name": "stdout",
     "output_type": "stream",
     "text": [
      "Welch's t-test p-value: 6.264019495749376e-25\n",
      "Reject the null hypothesis.\n"
     ]
    }
   ],
   "source": [
    "from scipy.stats import ttest_ind\n",
    "\n",
    "t_stat, p_value_welch = ttest_ind(national_services['Trains arriving within 15 minutes (percentage)'], operator_services['Trains arriving within 15 minutes (percentage)'], equal_var=False)\n",
    "\n",
    "print(\"Welch's t-test p-value:\", p_value_welch)\n",
    "\n",
    "if p_value_welch < 0.05:\n",
    "    print(\"Reject the null hypothesis.\")\n",
    "else:\n",
    "    print(\"Fail to reject the null hypothesis.\")"
   ]
  },
  {
   "cell_type": "markdown",
   "id": "cdba8fee",
   "metadata": {},
   "source": [
    "## INTERPRETATION OF RESULT"
   ]
  },
  {
   "cell_type": "markdown",
   "id": "c1767a96",
   "metadata": {},
   "source": [
    "The Welch's t-test results with a p-value of 6.26e-25 shows significant evidence against the null hypothesis. There is a significant relationship in train punctuality between the groups when looking at the percentage of trains arriving within 15 minutes. Suspended services during the covid-19 pandemic could have affected the result."
   ]
  },
  {
   "cell_type": "markdown",
   "id": "9cba98ef",
   "metadata": {},
   "source": [
    "## CONCLUSION"
   ]
  },
  {
   "cell_type": "markdown",
   "id": "f574113d",
   "metadata": {},
   "source": [
    "The data supports the research question, implying that the type of operator has an impact on the punctuality of the trains, it aligns with the earlier research which argues that operators influence train punctuality. These findings contribute to the understanding of train service reliability and can give insight into strategies for improvement in the transportation sector."
   ]
  },
  {
   "cell_type": "markdown",
   "id": "ac12e678",
   "metadata": {},
   "source": [
    "## REFERENCES\n",
    "Asad Khattak, Xin Wang, Sanghoon Son, and Paul Agnello. 2011. Travel by University Students in Virginia, Transportation Research Record 2255:1, 137-145.\n",
    "\n",
    "John Preston, Graham Wall, Richard Batley, J. Nicolás Ibáñez, and Jeremy Shires. 2009. Impact of Delays on Passenger Train Services, Transportation Research Record 2009 2117:1, 14-23.\n"
   ]
  }
 ],
 "metadata": {
  "kernelspec": {
   "display_name": "Python 3 (ipykernel)",
   "language": "python",
   "name": "python3"
  },
  "language_info": {
   "codemirror_mode": {
    "name": "ipython",
    "version": 3
   },
   "file_extension": ".py",
   "mimetype": "text/x-python",
   "name": "python",
   "nbconvert_exporter": "python",
   "pygments_lexer": "ipython3",
   "version": "3.11.5"
  }
 },
 "nbformat": 4,
 "nbformat_minor": 5
}
